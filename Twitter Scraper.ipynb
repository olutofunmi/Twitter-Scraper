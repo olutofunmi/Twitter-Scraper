{
 "cells": [
  {
   "cell_type": "code",
   "execution_count": 1,
   "metadata": {},
   "outputs": [],
   "source": [
    "#Required libraries\n",
    "import csv\n",
    "from getpass import getpass\n",
    "from time import sleep\n",
    "from selenium.webdriver.common.keys import Keys\n",
    "from selenium.common.exceptions import NoSuchElementException\n",
    "from selenium.webdriver.support.wait import WebDriverWait\n",
    "from selenium.webdriver.support import expected_conditions as EC\n",
    "from selenium.webdriver.common.by import By\n",
    "from selenium.webdriver import Chrome"
   ]
  },
  {
   "cell_type": "code",
   "execution_count": 2,
   "metadata": {},
   "outputs": [],
   "source": [
    "# A function to extract tweet data from a tweet\n",
    "\n",
    "def get_tweet_data(card):\n",
    "    \n",
    "    username = card.find_element_by_xpath(\".//span\").text\n",
    "    try:\n",
    "        twitterhandle = card.find_element_by_xpath(\".//span[contains(text(), '@')]\").text \n",
    "    except NoSuchElementException:\n",
    "        return\n",
    "    try:\n",
    "        postdate = card.find_element_by_xpath(\".//time\").get_attribute(\"datetime\")\n",
    "    except NoSuchElementException:\n",
    "        return\n",
    "\n",
    "    responding = card.find_element_by_xpath(\".//div[1]/div[1]/div[1]/div[2]/div[2]/div[2]/div[1]\").text\n",
    "    tweet = card.find_element_by_xpath(\".//div[1]/div[1]/div[1]/div[2]/div[2]/div[2]/div[2]\").text\n",
    "    \n",
    "\n",
    "    tweet = tweet if responding.startswith(\"Replying\") else responding + tweet\n",
    "    \n",
    "    comment_count = card.find_element_by_xpath(\".//div[@data-testid='reply']\").text\n",
    "    retweet_count = card.find_element_by_xpath(\".//div[@data-testid='retweet']\").text\n",
    "    like_count = card.find_element_by_xpath(\".//div[@data-testid='like']\").text\n",
    "    \n",
    "    tweet_data = (username, twitterhandle, postdate, tweet, comment_count, retweet_count, like_count)\n",
    "    return tweet_data"
   ]
  },
  {
   "cell_type": "code",
   "execution_count": 3,
   "metadata": {},
   "outputs": [
    {
     "name": "stderr",
     "output_type": "stream",
     "text": [
      "C:\\Users\\TOFUNMI\\anaconda3\\envs\\Web Scraping\\lib\\site-packages\\ipykernel_launcher.py:2: DeprecationWarning: executable_path has been deprecated, please pass in a Service object\n",
      "  \n",
      "C:\\Users\\TOFUNMI\\anaconda3\\envs\\Web Scraping\\lib\\site-packages\\ipykernel_launcher.py:17: DeprecationWarning: find_element_by_* commands are deprecated. Please use find_element() instead\n"
     ]
    }
   ],
   "source": [
    "# Create instance of webdriver and navigate to login screen\n",
    "driver = Chrome(r\"__filepath to chrome weddriver__\")\n",
    "driver.get(\"https://twitter.com/login\")\n",
    "driver.maximize_window()\n",
    "\n",
    "# Enter username and password\n",
    "username = WebDriverWait(driver, 15).until(EC.element_to_be_clickable((By.XPATH, \"//input[@autocomplete='username']\")))\n",
    "username.clear()\n",
    "username.send_keys(\"__username/email__\")\n",
    "Next = WebDriverWait(driver, 10).until(EC.element_to_be_clickable((By.XPATH, \"//span[contains(text(), 'Next')]\"))).click()\n",
    "\n",
    "# Login into Twitter using password\n",
    "password = WebDriverWait(driver, 15).until(EC.element_to_be_clickable((By.XPATH, \"//input[@name='password']\")))\n",
    "password.clear()\n",
    "my_password = \"__Password__\"\n",
    "password.send_keys(my_password)\n",
    "login = driver.find_element_by_xpath(\"//span[contains(text(), 'Log in')]\").click()\n",
    "\n",
    "#Enter search term\n",
    "keyword = \"#polynote\"\n",
    "searchbox = WebDriverWait(driver, 10).until(EC.element_to_be_clickable((By.XPATH, \"//input[@aria-label='Search query']\")))\n",
    "searchbox.send_keys(keyword)\n",
    "searchbox.send_keys(Keys.RETURN)\n",
    "WebDriverWait(driver, 15).until(EC.element_to_be_clickable((By.XPATH, \"//span[contains(text(), 'Latest')]\"))).click()\n",
    "sleep(5)"
   ]
  },
  {
   "cell_type": "code",
   "execution_count": 4,
   "metadata": {},
   "outputs": [
    {
     "name": "stderr",
     "output_type": "stream",
     "text": [
      "C:\\Users\\TOFUNMI\\anaconda3\\envs\\Web Scraping\\lib\\site-packages\\ipykernel_launcher.py:8: DeprecationWarning: find_elements_by_* commands are deprecated. Please use find_elements() instead\n",
      "  \n",
      "C:\\Users\\TOFUNMI\\anaconda3\\envs\\Web Scraping\\lib\\site-packages\\selenium\\webdriver\\remote\\webelement.py:393: UserWarning: find_element_by_* commands are deprecated. Please use find_element() instead\n",
      "  warnings.warn(\"find_element_by_* commands are deprecated. Please use find_element() instead\")\n"
     ]
    }
   ],
   "source": [
    "#Extract all tweets on the page\n",
    "tweets_data = []\n",
    "tweet_ids = set()\n",
    "last_position = driver.execute_script(\"return window.pageYOffset;\")\n",
    "scrolling = True\n",
    "                \n",
    "while scrolling:\n",
    "    page_cards = driver.find_elements_by_xpath(\"//article[@data-testid='tweet']\")\n",
    "    for card in page_cards[-15:]:\n",
    "        data = get_tweet_data(card)\n",
    "        if data:\n",
    "            tweet_id = ''.join(data)\n",
    "            if tweet_id not in tweet_ids:\n",
    "                tweet_ids.add(tweet_id)\n",
    "                tweets_data.append(data)\n",
    "\n",
    "    scroll_attempt = 0\n",
    "    while True:\n",
    "        #scroll and wait for 2 seconds\n",
    "        driver.execute_script('window.scrollTo(0, document.body.scrollHeight);')\n",
    "        sleep(2)\n",
    "        current_position = driver.execute_script(\"return window.pageYOffset;\")\n",
    "        if last_position == current_position:\n",
    "            scroll_attempt += 1\n",
    "            \n",
    "            #attempt to scroll 3 times and if scroll position does not change set the outer while loop to false causing it to\n",
    "            #break and break out of inner while loop\n",
    "            if scroll_attempt >= 3:\n",
    "                scrolling = False\n",
    "                break\n",
    "            else:\n",
    "                sleep(2)\n",
    "        else:\n",
    "            last_position = current_position\n",
    "            break\n",
    "\n",
    "# close the web driver\n",
    "driver.close()"
   ]
  },
  {
   "cell_type": "code",
   "execution_count": 5,
   "metadata": {},
   "outputs": [],
   "source": [
    "# Save data to a csv file\n",
    "with open(keyword + \" tweets.csv\", \"w\", newline=\"\", encoding=\"utf-8\") as f:\n",
    "    header = [\"Username\", \"Twitter Handle\", \"Timestamp\", \"Text\", \"Comments\", \"Retweets\", \"Likes\"]\n",
    "    writer = csv.writer(f)\n",
    "    writer.writerow(header)\n",
    "    writer.writerows(tweets_data)"
   ]
  }
 ],
 "metadata": {
  "kernelspec": {
   "display_name": "Python 3 (ipykernel)",
   "language": "python",
   "name": "python3"
  },
  "language_info": {
   "codemirror_mode": {
    "name": "ipython",
    "version": 3
   },
   "file_extension": ".py",
   "mimetype": "text/x-python",
   "name": "python",
   "nbconvert_exporter": "python",
   "pygments_lexer": "ipython3",
   "version": "3.7.12"
  }
 },
 "nbformat": 4,
 "nbformat_minor": 4
}
